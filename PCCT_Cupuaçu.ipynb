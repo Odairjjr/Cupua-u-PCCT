{
  "nbformat": 4,
  "nbformat_minor": 0,
  "metadata": {
    "colab": {
      "name": "PCCT-Cupuaçu",
      "provenance": [],
      "authorship_tag": "ABX9TyPawWfiWouztx33HqD8Bjfu",
      "include_colab_link": true
    },
    "kernelspec": {
      "name": "python3",
      "display_name": "Python 3"
    },
    "language_info": {
      "name": "python"
    }
  },
  "cells": [
    {
      "cell_type": "markdown",
      "metadata": {
        "id": "view-in-github",
        "colab_type": "text"
      },
      "source": [
        "<a href=\"https://colab.research.google.com/github/Odairjjr/Cupua-u-PCCT/blob/main/PCCT_Cupua%C3%A7u.ipynb\" target=\"_parent\"><img src=\"https://colab.research.google.com/assets/colab-badge.svg\" alt=\"Open In Colab\"/></a>"
      ]
    },
    {
      "cell_type": "markdown",
      "source": [
        "# Análise morfométrica das sementes de cupauçu\n",
        "\n"
      ],
      "metadata": {
        "id": "w1Nmwr7cIfme"
      }
    },
    {
      "cell_type": "code",
      "source": [
        "import numpy as np\n",
        "\n",
        "matriz1={('s1',2.4,1.7,4.4),('s2',2.5,1.9,4.6),('s3',2.5,1.7,4.3),('s4',2.5,1.7,4.3),('s5',2.6,1.8,4.5),('s6',2.7,1.8,4.7),('s7',2.7,1.7,4.6),('s8',2.8,2.0,4.3),('s9',2.8,1.8,4.1),('s10',3.0,2.0,4.6)}\n",
        "matriz2={('s11',2.3,1.7,4.5),('s12',2.6,1.9,4.6),('s13',2.8,1.5,5.0),('s14',2.4,1.7,4.6),('s15',2.6,1.8,4.6),('s16',2.4,1.7,4.8),('s17',2.4,1.6,4.3),('s18',2.3,1.8,4.5),('s19',2.3,1.7,4.8),('s20',2.2,1.6,4.4)}\n",
        "matriz3={('s21',3.2,2.0,4.6),('s22',3.2,2.1,4.8),('s23',2.8,2.0,5.1),('s24',3.1,2.1,5.0),('s25',2.9,2.1,5.0),('s26',3.2,2.2,5.2),('s27',3.2,2.3,5.2),('s28',3.0,1.8,4.7),('s29',2.8,2.0,4.9),('s30',2.8,5.0,2.2)}\n",
        "matriz4={('s31',3.0,2.2,5.3),('s32',3.0,2.4,5.2),('s33',2.9,2.3,5.3),('s34',2.9,2.3,5.3),('s35',2.8,2.4,5.5),('s36',3.0,2.0,5.0),('s37',2.8,2.0,5.0),('s38',3.0,2.3,5.6),('s39',2.7,2.2,5.5),('s40',2.6,1.8,5.0)}\n",
        "matriz5={('s41',2.5,1.9,5.3),('s42',2.4,2.0,5.0),('s43',2.9,1.9,5.3),('s44',2.6,2.0,4.8),('s45',2.6,1.9,4.8),('s46',2.7,1.9,5.3),('s47',2.5,2.0,5.3),('s48',2.7,2.0,5.1),('s49',2.5,1.8,5.0),('s50',2.5,1.8,4.6)}\n",
        "#(n°semente,altura,lagura,diametro)\n",
        "mediam1a=[ ]\n",
        "mediam2a=[ ]\n",
        "mediam3a=[ ]\n",
        "mediam4a=[ ]\n",
        "mediam5a=[ ]\n",
        "\n",
        "mediam1l=[ ]\n",
        "mediam2l=[ ]\n",
        "mediam3l=[ ]\n",
        "mediam4l=[ ]\n",
        "mediam5l=[ ]\n",
        "\n",
        "mediam1d=[ ]\n",
        "mediam2d=[ ]\n",
        "mediam3d=[ ]\n",
        "mediam4d=[ ]\n",
        "mediam5d=[ ]\n",
        "\n",
        "\n",
        "for semente,altura,largura,diametro in matriz1:\n",
        "  sementem1=(semente)\n",
        "  alturam1=(altura)\n",
        "  larguram1=(largura)\n",
        "  diamentrom1=(diametro)\n",
        "  mediam1a+=[alturam1 ]\n",
        "  mediam1l+=[ larguram1]\n",
        "  mediam1d+=[ diamentrom1] \n",
        "\n",
        "for semente,altura,largura,diametro in matriz2:\n",
        "  sementem2=(semente)\n",
        "  alturam2=(altura)\n",
        "  larguram2=(largura)\n",
        "  diamentrom2=(diametro)\n",
        "  mediam2a+=[alturam2 ]\n",
        "  mediam2l+=[ larguram2]\n",
        "  mediam2d+=[ diamentrom2] \n",
        "\n",
        "for semente,altura,largura,diametro in matriz3:\n",
        "  sementem3=(semente)\n",
        "  alturam3=(altura)\n",
        "  larguram3=(largura)\n",
        "  diamentrom3=(diametro)\n",
        "  mediam3a+=[alturam3 ]\n",
        "  mediam3l+=[ larguram3]\n",
        "  mediam3d+=[ diamentrom3] \n",
        "\n",
        "for semente,altura,largura,diametro in matriz4:\n",
        "  sementem4=(semente)\n",
        "  alturam4=(altura)\n",
        "  larguram4=(largura)\n",
        "  diamentrom4=(diametro)\n",
        "  mediam4a+=[alturam4 ]\n",
        "  mediam4l+=[ larguram4]\n",
        "  mediam4d+=[ diamentrom4] \n",
        "\n",
        "for semente,altura,largura,diametro in matriz5:\n",
        "  sementem5=(semente)\n",
        "  alturam5=(altura)\n",
        "  larguram5=(largura)\n",
        "  diamentrom5=(diametro)\n",
        "  mediam5a+=[alturam5 ]\n",
        "  mediam5l+=[ larguram5]\n",
        "  mediam5d+=[ diamentrom5] \n",
        "\n",
        "print(\" \")\n",
        "print('Tabela da ALTURA das sementes:')\n",
        "print('m1:',mediam1a)\n",
        "print('m2:',mediam2a)\n",
        "print('m3:',mediam3a)\n",
        "print('m4:',mediam4a)\n",
        "print('m5:',mediam5a)\n",
        "print(\" \")\n",
        "print('Tabela da LARGURA das sementes:')\n",
        "print('m1:',mediam1l)\n",
        "print('m2:',mediam2l)\n",
        "print('m3:',mediam3l)\n",
        "print('m4:',mediam4l)\n",
        "print('m5:',mediam5l)\n",
        "print(\" \")\n",
        "print('Tabela do DIAMETRO das sementes:')\n",
        "print('m1:',mediam1d)\n",
        "print('m2:',mediam2d)\n",
        "print('m3:',mediam3d)\n",
        "print('m4:',mediam4d)\n",
        "print('m5:',mediam5d)\n",
        "print(\" \")\n",
        "\n",
        "mediam1a=np.mean(mediam1a)\n",
        "mediam1l=np.mean(mediam1l)\n",
        "mediam1d=np.mean(mediam1d)\n",
        "\n",
        "print(\"---------------- Cálculo da média matriz 1 ------------------          \")\n",
        "print('altura:',f'{mediam1a:.2f}')\n",
        "print('largura:',f'{mediam1l:.2f}')\n",
        "print('diamentro:',f'{mediam1d:.2f}')\n",
        "print(\" \")\n",
        "\n",
        "mediam2a=np.mean(mediam2a)\n",
        "mediam2l=np.mean(mediam2l)\n",
        "mediam2d=np.mean(mediam2d)\n",
        "\n",
        "print(\"---------------- Cálculo da média matriz 2 ------------------            \")\n",
        "print('altura:',f'{mediam2a:.2f}')\n",
        "print('largura:',f'{mediam2l:.2f}')\n",
        "print('diametro',f'{mediam2d:.2f}')\n",
        "print(\" \")\n",
        "\n",
        "mediam3a=np.mean(mediam3a)\n",
        "mediam3l=np.mean(mediam3l)\n",
        "mediam3d=np.mean(mediam3d)\n",
        "\n",
        "print(\"---------------- Cálculo da média matriz 3 ------------------         \")\n",
        "print('altura:',f'{mediam3a:.2f}')\n",
        "print('largura:',f'{mediam3l:.2f}')\n",
        "print('diametro:',f'{mediam3d:.2f}')\n",
        "print(\" \")\n",
        "\n",
        "#f'{m4a:.2f}'\n",
        "mediam4a=np.mean(mediam4a)\n",
        "mediam4l=np.mean(mediam4l)\n",
        "mediam4d=np.mean(mediam4d)\n",
        "\n",
        "print('---------------- Cálculo da média matriz 4 -----------------           ')\n",
        "print('altura:',f'{mediam4a:.2f}')\n",
        "print('largura:',f'{mediam4l:.2f}')\n",
        "print('diametro:',f'{mediam4d:.2f}')\n",
        "print(\" \")\n",
        "\n",
        "mediam5a=np.mean(mediam5a)\n",
        "mediam5l=np.mean(mediam5l)\n",
        "mediam5d=np.mean(mediam5d)\n",
        "\n",
        "print('---------------- Cálculo da média matriz 5 ------------------            ')\n",
        "print('altura:',f'{mediam5a:.2f}')\n",
        "print('largura:',f'{mediam5l:.2f}')\n",
        "print('diametro:',f'{mediam5d:.2f}')\n"
      ],
      "metadata": {
        "colab": {
          "base_uri": "https://localhost:8080/"
        },
        "id": "L32vmKpJIk1d",
        "outputId": "d46599fc-0bfe-4d36-a08c-932512c397d4"
      },
      "execution_count": 25,
      "outputs": [
        {
          "output_type": "stream",
          "name": "stdout",
          "text": [
            " \n",
            "Tabela da ALTURA das sementes:\n",
            "m1: [2.8, 2.7, 3.0, 2.4, 2.8, 2.5, 2.6, 2.5, 2.7, 2.5]\n",
            "m2: [2.4, 2.3, 2.6, 2.3, 2.6, 2.4, 2.2, 2.4, 2.3, 2.8]\n",
            "m3: [2.9, 3.1, 3.0, 3.2, 2.8, 2.8, 3.2, 2.8, 3.2, 3.2]\n",
            "m4: [2.8, 2.6, 2.8, 3.0, 3.0, 2.9, 3.0, 3.0, 2.7, 2.9]\n",
            "m5: [2.6, 2.7, 2.6, 2.4, 2.9, 2.5, 2.5, 2.5, 2.5, 2.7]\n",
            " \n",
            "Tabela da LARGURA das sementes:\n",
            "m1: [1.8, 1.7, 2.0, 1.7, 2.0, 1.7, 1.8, 1.7, 1.8, 1.9]\n",
            "m2: [1.7, 1.8, 1.9, 1.7, 1.8, 1.6, 1.6, 1.7, 1.7, 1.5]\n",
            "m3: [2.1, 2.1, 1.8, 2.3, 5.0, 2.0, 2.2, 2.0, 2.1, 2.0]\n",
            "m4: [2.0, 1.8, 2.4, 2.4, 2.3, 2.3, 2.0, 2.2, 2.2, 2.3]\n",
            "m5: [1.9, 2.0, 2.0, 2.0, 1.9, 1.9, 2.0, 1.8, 1.8, 1.9]\n",
            " \n",
            "Tabela do DIAMETRO das sementes:\n",
            "m1: [4.1, 4.6, 4.6, 4.4, 4.3, 4.3, 4.5, 4.3, 4.7, 4.6]\n",
            "m2: [4.8, 4.5, 4.6, 4.5, 4.6, 4.3, 4.4, 4.6, 4.8, 5.0]\n",
            "m3: [5.0, 5.0, 4.7, 5.2, 2.2, 5.1, 5.2, 4.9, 4.8, 4.6]\n",
            "m4: [5.0, 5.0, 5.5, 5.2, 5.6, 5.3, 5.0, 5.3, 5.5, 5.3]\n",
            "m5: [4.8, 5.1, 4.8, 5.0, 5.3, 5.3, 5.3, 5.0, 4.6, 5.3]\n",
            " \n",
            "---------------- Cálculo da média matriz 1 ------------------          \n",
            "altura: 2.65\n",
            "largura: 1.81\n",
            "diamentro: 4.44\n",
            " \n",
            "---------------- Cálculo da média matriz 2 ------------------            \n",
            "altura: 2.43\n",
            "largura: 1.70\n",
            "diametro 4.61\n",
            " \n",
            "---------------- Cálculo da média matriz 3 ------------------         \n",
            "altura: 3.02\n",
            "largura: 2.36\n",
            "diametro: 4.67\n",
            " \n",
            "---------------- Cálculo da média matriz 4 -----------------           \n",
            "altura: 2.87\n",
            "largura: 2.19\n",
            "diametro: 5.27\n",
            " \n",
            "---------------- Cálculo da média matriz 5 ------------------            \n",
            "altura: 2.59\n",
            "largura: 1.92\n",
            "diametro: 5.05\n"
          ]
        }
      ]
    },
    {
      "cell_type": "markdown",
      "source": [
        "# Cálculo da média de impureza das sementes de cupuaçu"
      ],
      "metadata": {
        "id": "DTof3sB8I6zl"
      }
    },
    {
      "cell_type": "code",
      "source": [
        "##matriz1={('s1',3,4),('s2',2,4),('s3',2,3),('s4',3,4),('s5',3,4),('s6',3,3),('s7',3,3),('s8',2,3),('s9',2,4),('s10',2,3)}\n",
        "matriz1={('s1',3,4),('s2',2,4),('s3',2,3),('s4',3,4),('s5',3,4),('s6',1.5,3),('s7',1.5,3),('s8',2,3),('s9',2,4),('s10',2,3)}\n",
        "\n",
        "##matriz2={('s11',2,4),('s12',3,3),('s13',3,3),('s14',2,2),('s15',3,3),('s16',3,3),('s17',2,2),('s18',2,3),('s19',2,3),('s20',3,3)}\n",
        "matriz2={('s11',2,4),('s12',2,3),('s13',2,3),('s14',2,2),('s15',1.5,3),('s16',3,3),('s17',2,3),('s18',2,3),('s19',3,3),('s20',2.5,5)}\n",
        "\n",
        "##matriz3={('s21',5,5),('s22',3,3),('s23',4,5),('s24',4,4),('s25',3,4),('s26',4,5),('s27',4,4),('s28',3,4),('s29',4,4),('s30',4,4)}\n",
        "matriz3={('s21',1.5,3),('s22',4,5),('s23',2,4),('s24',3,4),('s25',3,4),('s26',2.5,5),('s27',2,4),('s28',3,4),('s29',4,4),('s30',2,4)}\n",
        "\n",
        "##matriz4={('s31',2,3),('s32',2,3),('s33',3,3),('s34',2,2),('s35',2,2),('s36',3,4),('s37',2,3),('s38',2,3),('s39',2,3),('s40',2,3)}\n",
        "matriz4={('s31',2,3),('s32',2,3),('s33',1.5,3),('s34',1,2),('s35',1,2),('s36',3,4),('s37',2,3),('s38',2,3),('s39',2,3),('s40',2,3)}\n",
        "\n",
        "##matriz5={('s41',4,4),('s42',4,5),('s43',4,5),('s44',4,5),('s45',4,5),('s46',5,5),('s47',4,4),('s48',4,5),('s49',5,5),('s50',3,4)}\n",
        "matriz5={('s41',2,4),('s42',4,5),('s43',4,5),('s44',4,5),('s45',3,5),('s46',2.5,5),('s47',2.5,4),('s48',5,5),('s49',2.5,5),('s50',3,4)}\n",
        "\n",
        "matriz1sl=[]\n",
        "matriz2sl=[]\n",
        "matriz3sl=[]\n",
        "matriz4sl=[]\n",
        "matriz5sl=[]\n",
        "\n",
        "matriz1su=[]\n",
        "matriz2su=[]\n",
        "matriz3su=[]\n",
        "matriz4su=[]\n",
        "matriz5su=[]\n",
        "\n",
        "\n",
        "for semente,slimpas,sumidas in matriz1:\n",
        "  sementem1=(semente)\n",
        "  slimpasm1=(slimpas)\n",
        "  sumidasm1=(sumidas)\n",
        "  matriz1sl+=[slimpasm1]\n",
        "  matriz1su+=[sumidasm1]\n",
        "\n",
        "for semente,slimpas,sumidas in matriz2:\n",
        "  sementem2=(semente)\n",
        "  slimpasm2=(slimpas)\n",
        "  sumidasm2=(sumidas)\n",
        "  matriz2sl+=[slimpasm2]\n",
        "  matriz2su+=[sumidasm2]\n",
        "\n",
        "for semente,slimpas,sumidas in matriz3:\n",
        "  sementem3=(semente)\n",
        "  slimpasm3=(slimpas)\n",
        "  sumidasm3=(sumidas)\n",
        "  matriz3sl+=[slimpasm3]\n",
        "  matriz3su+=[sumidasm3]\n",
        "\n",
        "for semente,slimpas,sumidas in matriz4:\n",
        "  sementem4=(semente)\n",
        "  slimpasm4=(slimpas)\n",
        "  sumidasm4=(sumidas)\n",
        "  matriz4sl+=[slimpasm4]\n",
        "  matriz4su+=[sumidasm4]\n",
        "\n",
        "for semente,slimpas,sumidas in matriz5:\n",
        "  sementem5=(semente)\n",
        "  slimpasm5=(slimpas)\n",
        "  sumidasm5=(sumidas)\n",
        "  matriz5sl+=[slimpasm5]\n",
        "  matriz5su+=[sumidasm5]\n",
        "\n",
        "  \n",
        "mediassm1=np.mean(matriz1sl)\n",
        "mediasum1=np.mean(matriz1su)\n",
        "\n",
        "mediassm2=np.mean(matriz2sl)\n",
        "mediasum2=np.mean(matriz2su)\n",
        "\n",
        "mediassm3=np.mean(matriz3sl)\n",
        "mediasum3=np.mean(matriz3su)\n",
        "\n",
        "mediassm4=np.mean(matriz4sl)\n",
        "mediasum4=np.mean(matriz4su)\n",
        "\n",
        "mediassm5=np.mean(matriz5sl)\n",
        "mediasum5=np.mean(matriz5su)\n",
        "\n",
        "impureza1=float((mediasum1-mediassm1))\n",
        "impureza2=float((mediasum2-mediassm2))\n",
        "impureza3=float((mediasum3-mediassm3))\n",
        "impureza4=float((mediasum4-mediassm4))\n",
        "impureza5=float((mediasum5-mediassm5))\n",
        "\n",
        "print('Impureza matriz1:',f'{impureza1:.2f}')\n",
        "print('Impureza matriz2:',f'{impureza2:.2f}')\n",
        "print('impureza matriz3:',f'{impureza3:.2f}')\n",
        "print('impureza matriz4:',f'{impureza4:.2f}')\n",
        "print('impureza matriz5:',f'{impureza5:.2f}')\n"
      ],
      "metadata": {
        "colab": {
          "base_uri": "https://localhost:8080/"
        },
        "id": "FVaCFbbDiVeM",
        "outputId": "790f0463-192e-477b-93c5-af92c5fb8472"
      },
      "execution_count": 26,
      "outputs": [
        {
          "output_type": "stream",
          "name": "stdout",
          "text": [
            "Impureza matriz1: 1.30\n",
            "Impureza matriz2: 1.00\n",
            "impureza matriz3: 1.40\n",
            "impureza matriz4: 1.05\n",
            "impureza matriz5: 1.45\n"
          ]
        }
      ]
    },
    {
      "cell_type": "markdown",
      "source": [
        "# Cálculo da Pureza das sementes de cupuaçu"
      ],
      "metadata": {
        "id": "WijAwEuJJFFb"
      }
    },
    {
      "cell_type": "code",
      "source": [
        "# Pureza= peso de sementes limpas e perfeitas/peso de sementes + impurezas x 100\n",
        "\n",
        "print('tabela sementes secas:')\n",
        "print('m1:',matriz1sl)\n",
        "print('m2:',matriz2sl)\n",
        "print('m3:',matriz3sl)\n",
        "print('m4:',matriz4sl)\n",
        "print('m5:',matriz5sl)\n",
        "print(\"tabela sementes úmidas: \")\n",
        "print('m1:',matriz1su)\n",
        "print('m2:',matriz2su)\n",
        "print('m3:',matriz3su)\n",
        "print('m4:',matriz4su)\n",
        "print('m5:',matriz5su)\n",
        "print(\" \")  \n",
        "\n",
        "#Calculando a média de cada matriz\n",
        "mediassm1=np.mean(matriz1sl)\n",
        "mediasum1=np.mean(matriz1su)\n",
        "\n",
        "mediassm2=np.mean(matriz2sl)\n",
        "mediasum2=np.mean(matriz2su)\n",
        "\n",
        "mediassm3=np.mean(matriz3sl)\n",
        "mediasum3=np.mean(matriz3su)\n",
        "\n",
        "mediassm4=np.mean(matriz4sl)\n",
        "mediasum4=np.mean(matriz4su)\n",
        "\n",
        "mediassm5=np.mean(matriz5sl)\n",
        "mediasum5=np.mean(matriz5su)\n",
        "\n",
        "impurezam1=1.3\n",
        "impurezam2=1\n",
        "impurezam3=1.4\n",
        "impurezam4=1.05\n",
        "impurezam5=1.45\n",
        "\n",
        "#Impureza matriz1: 1.30\n",
        "#Impureza matriz2: 1.00\n",
        "#impureza matriz3: 1.40\n",
        "#impureza matriz4: 1.05\n",
        "#impureza matriz5: 1.45\n",
        "\n",
        "\n",
        "print('---------------- Cálculo da média matriz 1 ------------------ ')\n",
        "print('Sementes secas:',mediassm1,'g')\n",
        "print('Sementes úmidas:',mediasum1,'g')\n",
        "m1p= float((mediassm1/(mediasum1+impurezam1))*100)\n",
        "print('Taxa de pureza:',f'{m1p:.2f}','%')\n",
        "print(\" \")\n",
        "\n",
        "print('---------------- Cálculo da média matriz 2 ------------------   ')\n",
        "print('Sementes secas:',mediassm2,'g')\n",
        "print('Sementes úmidas:',mediasum2,'g')\n",
        "m2p= float((mediassm2/(mediasum2+impurezam2))*100)\n",
        "print('Taxa de pureza:',f'{m2p:.2f}','%')\n",
        "print(\" \")\n",
        "\n",
        "print('---------------- Cálculo da média matriz 3 ------------------   ')\n",
        "print('Sementes secas:',mediassm3,'g')\n",
        "print('Sementes úmidas:',mediasum3,'g')\n",
        "m3p= float((mediassm3/(mediasum3+impurezam3))*100)\n",
        "print('Taxa de pureza:',f'{m3p:.2f}','%')\n",
        "print(\" \")\n",
        "\n",
        "print('---------------- Cálculo da média matriz 4 ------------------   ')\n",
        "print('Sementes secas:',mediassm4,'g')\n",
        "print('Sementes úmidas',mediasum4,'g')\n",
        "m4p=float((mediassm4/(mediasum4+impurezam4))*100)\n",
        "print('Taxa de pureza:', f'{m4p:.2f}','%')\n",
        "print(\" \")\n",
        "\n",
        "print('---------------- Cálculo da média matriz 5 ------------------   ')\n",
        "print('Sementes secas:',mediassm5,'g')\n",
        "print('Sementes úmidas:',mediasum5,'g')\n",
        "m5p= float((mediassm5/(mediasum5+impurezam5))*100)\n",
        "print('Taxa de pureza:',f'{m5p:.2f}','%')"
      ],
      "metadata": {
        "colab": {
          "base_uri": "https://localhost:8080/"
        },
        "id": "k0dgTWHkMH6_",
        "outputId": "f8cfa15b-55c6-45a5-e3f1-628ffd7cbd04"
      },
      "execution_count": 27,
      "outputs": [
        {
          "output_type": "stream",
          "name": "stdout",
          "text": [
            "tabela sementes secas:\n",
            "m1: [1.5, 3, 1.5, 2, 3, 3, 2, 2, 2, 2]\n",
            "m2: [3, 2, 2, 2, 2.5, 2, 1.5, 3, 2, 2]\n",
            "m3: [1.5, 2, 4, 3, 4, 2.5, 2, 3, 3, 2]\n",
            "m4: [2, 2, 1, 1.5, 2, 2, 2, 1, 3, 2]\n",
            "m5: [4, 2.5, 2.5, 3, 4, 5, 2.5, 4, 3, 2]\n",
            "tabela sementes úmidas: \n",
            "m1: [3, 4, 3, 3, 4, 4, 4, 3, 4, 3]\n",
            "m2: [3, 4, 3, 3, 5, 2, 3, 3, 3, 3]\n",
            "m3: [3, 4, 4, 4, 5, 5, 4, 4, 4, 4]\n",
            "m4: [3, 3, 2, 3, 3, 3, 3, 2, 4, 3]\n",
            "m5: [5, 4, 5, 5, 5, 5, 5, 5, 4, 4]\n",
            " \n",
            "---------------- Cálculo da média matriz 1 ------------------ \n",
            "Sementes secas: 2.2 g\n",
            "Sementes úmidas: 3.5 g\n",
            "Taxa de pureza: 45.83 %\n",
            " \n",
            "---------------- Cálculo da média matriz 2 ------------------   \n",
            "Sementes secas: 2.2 g\n",
            "Sementes úmidas: 3.2 g\n",
            "Taxa de pureza: 52.38 %\n",
            " \n",
            "---------------- Cálculo da média matriz 3 ------------------   \n",
            "Sementes secas: 2.7 g\n",
            "Sementes úmidas: 4.1 g\n",
            "Taxa de pureza: 49.09 %\n",
            " \n",
            "---------------- Cálculo da média matriz 4 ------------------   \n",
            "Sementes secas: 1.85 g\n",
            "Sementes úmidas 2.9 g\n",
            "Taxa de pureza: 46.84 %\n",
            " \n",
            "---------------- Cálculo da média matriz 5 ------------------   \n",
            "Sementes secas: 3.25 g\n",
            "Sementes úmidas: 4.7 g\n",
            "Taxa de pureza: 52.85 %\n"
          ]
        }
      ]
    },
    {
      "cell_type": "markdown",
      "source": [
        "# Cálculo do Número de sementes por quilograma "
      ],
      "metadata": {
        "id": "G7LjmeqIJg8l"
      }
    },
    {
      "cell_type": "code",
      "source": [
        "#FORMULA: n° sementes por kg=1000/peso de 1.000 sementes (gramas) x 100\n",
        "# *No caso será multiplicado por 100 sera subtituido por 50, pois trabalhamos com '50' sementes.\n",
        "\n",
        "# nova formatação de cálculo: n° sementes por kg=50/peso de 50 sementes(gramas) X 100\n",
        "\n",
        "mediasum1=((matriz1su[0]+matriz1su[1]+matriz1su[2]+matriz1su[3]+matriz1su[4]+matriz1su[5]+matriz1su[6]+matriz1su[7]+matriz1su[8]+matriz1su[9]))\n",
        "mediasum2=((matriz2su[0]+matriz2su[1]+matriz2su[2]+matriz2su[3]+matriz2su[4]+matriz2su[5]+matriz2su[6]+matriz2su[7]+matriz2su[8]+matriz2su[9]))\n",
        "mediasum3=((matriz3su[0]+matriz3su[1]+matriz3su[2]+matriz3su[3]+matriz3su[4]+matriz3su[5]+matriz3su[6]+matriz3su[7]+matriz3su[8]+matriz3su[9]))\n",
        "mediasum4=((matriz4su[0]+matriz4su[1]+matriz4su[2]+matriz4su[3]+matriz4su[4]+matriz4su[5]+matriz4su[6]+matriz4su[7]+matriz4su[8]+matriz4su[9]))\n",
        "mediasum5=((matriz5su[0]+matriz5su[1]+matriz5su[2]+matriz5su[3]+matriz5su[4]+matriz5su[5]+matriz5su[6]+matriz5su[7]+matriz5su[8]+matriz5su[9]))\n",
        "\n",
        "pesosementes=float(mediasum1+mediasum2+mediasum3+mediasum4+mediasum5)\n",
        "print('Número de sementes por Kg:')\n",
        "sementekg=float((50/pesosementes)*100)\n",
        "print(f'{sementekg:.2f}')\n"
      ],
      "metadata": {
        "id": "N46hpTBbI8Lw",
        "colab": {
          "base_uri": "https://localhost:8080/"
        },
        "outputId": "35ce7af1-0f00-4e6c-c1bd-9d782c16456b"
      },
      "execution_count": 29,
      "outputs": [
        {
          "output_type": "stream",
          "name": "stdout",
          "text": [
            "Número de sementes por Kg:\n",
            "27.17\n"
          ]
        }
      ]
    },
    {
      "cell_type": "markdown",
      "source": [
        "# Cálculo da medida de germinação, mudas de cupuaçu do Viveiro Experimental"
      ],
      "metadata": {
        "id": "tXV1pGKIJyt1"
      }
    },
    {
      "cell_type": "code",
      "source": [
        "#1° remessa, Lote de 25 sementes\n",
        "\n",
        "# Medidas de Germinação  \n",
        "\n",
        "# %G=(SG)x100/TS \n",
        "\n",
        "# %G=percentual de germinação\n",
        "# SG= número total de sementes germinadas\n",
        "# TS=número total de sementes\n",
        "\n",
        "SG=24\n",
        "TS=25\n",
        "\n",
        "G=(SG)*100/TS\n",
        "print('O percetual de germinação foi de:',G,'%')"
      ],
      "metadata": {
        "colab": {
          "base_uri": "https://localhost:8080/"
        },
        "id": "PIYElIBqvJxo",
        "outputId": "538e7bb4-c482-450d-c86c-6a78f0b29581"
      },
      "execution_count": 30,
      "outputs": [
        {
          "output_type": "stream",
          "name": "stdout",
          "text": [
            "O percetual de germinação foi de: 96.0 %\n"
          ]
        }
      ]
    },
    {
      "cell_type": "code",
      "source": [
        "#2° remessa, Lote de 25 sementes\n",
        "\n",
        "# Medidas de Germinação \n",
        "\n",
        "# %G=(SG)x100/TS \n",
        "\n",
        "# %G=percentual de germinação\n",
        "# SG= número total de sementes germinadas\n",
        "# TS=número total de sementes\n",
        "\n",
        "SG=8\n",
        "TS=25\n",
        "\n",
        "G=(SG)*100/TS\n",
        "print('O percetual de germinação foi de:',G,'%')"
      ],
      "metadata": {
        "colab": {
          "base_uri": "https://localhost:8080/"
        },
        "id": "1n3ebUl3HcvX",
        "outputId": "c8219420-03c0-4183-c61a-f9d3fb288a25"
      },
      "execution_count": 31,
      "outputs": [
        {
          "output_type": "stream",
          "name": "stdout",
          "text": [
            "O percetual de germinação foi de: 32.0 %\n"
          ]
        }
      ]
    },
    {
      "cell_type": "code",
      "source": [
        "### Total Medidas de Germinação  # Cálculo da germinação do 1°lote e do 2°lote juntos\n",
        "\n",
        "# %G=(SG)x100/TS \n",
        "\n",
        "# %G=percentual de germinação\n",
        "# SG= número total de sementes germinadas\n",
        "# TS=número total de sementes\n",
        "\n",
        "SG=32\n",
        "TS=50\n",
        "\n",
        "G=(SG)*100/TS\n",
        "print('''SG=24\n",
        "TS=25''')\n",
        "print('%G=(SG)*100/TS')\n",
        "print('O percetual de germinação das 50 sementes foi de:',G,'%')\n",
        "print(\" \")\n"
      ],
      "metadata": {
        "colab": {
          "base_uri": "https://localhost:8080/"
        },
        "id": "zX37okRVG4JT",
        "outputId": "6dbeff72-011b-4075-e065-6f9cd259defd"
      },
      "execution_count": 32,
      "outputs": [
        {
          "output_type": "stream",
          "name": "stdout",
          "text": [
            "SG=24\n",
            "TS=25\n",
            "%G=(SG)*100/TS\n",
            "O percetual de germinação das 50 sementes foi de: 64.0 %\n",
            " \n"
          ]
        }
      ]
    },
    {
      "cell_type": "markdown",
      "source": [
        "# Cálculo do tempo médio necessário para germinação das mudas"
      ],
      "metadata": {
        "id": "LVgsZMMWKqbP"
      }
    },
    {
      "cell_type": "code",
      "source": [
        "# T=(N x t)/N\n",
        "\n",
        "# T=tempo médio necessário para determinado número de sementes germinar\n",
        "# N= Número de sementes germinadas no intervalo de tempo\n",
        "# t=intervalo de tempo necessário para germinação do lote\n",
        "\n",
        "# t=18/04 até 21/04 (3 dias), 19/04 até 24/04 (5 dias)=> em 6 dias 24 sementes germinaram => 6/2=3\n",
        "# N= 15s em 21/04 e 09 em 24/04=> 24 sementes germinaram \n",
        "\n",
        "import numpy as np\n",
        "\n",
        "t=[3,5,6]\n",
        "t=np.mean(t)\n",
        "print('t=',f'{t:.2f}','dias')\n",
        "\n",
        "N=[15,9]\n",
        "N=np.mean(N)\n",
        "print('N=',N,'Sementes')\n",
        "\n",
        "print(\"T=(N*t)/N\")\n",
        "T=(N*t)/N\n",
        "print('T=',f'{T:.2f}','é o intervalo de tempo necessário para germinação do lote')\n",
        "\n"
      ],
      "metadata": {
        "id": "yJSqzuTWJq1L",
        "colab": {
          "base_uri": "https://localhost:8080/"
        },
        "outputId": "df9c9533-f7e4-43e0-eb1b-0ad238fd52c8"
      },
      "execution_count": 33,
      "outputs": [
        {
          "output_type": "stream",
          "name": "stdout",
          "text": [
            "t= 4.67 dias\n",
            "N= 12.0 Sementes\n",
            "T=(N*t)/N\n",
            "T= 4.67 é o intervalo de tempo necessário para germinação do lote\n"
          ]
        }
      ]
    },
    {
      "cell_type": "markdown",
      "source": [
        "# Cálculo da determinação de umidade das sementes de cupuaçu"
      ],
      "metadata": {
        "id": "gAVR2VTvLAUT"
      }
    },
    {
      "cell_type": "code",
      "source": [
        "#FORMULA: %U=(Pi-PS)/Pi x 100\n",
        "\n",
        "# %U= umidade em percentual\n",
        "# Pi=peso inicial\n",
        "# PS= Peso após secagem em estufa\n",
        "\n",
        "print('tabela peso inicial das sementes:')\n",
        "print('m1:',matriz1sl)\n",
        "print('m2:',matriz2sl)\n",
        "print('m3:',matriz3sl)\n",
        "print('m4:',matriz4sl)\n",
        "print('m5:',matriz5sl)\n",
        "print(\"tabela peso após secagem: \")\n",
        "print('m1:',matriz1su)\n",
        "print('m2:',matriz2su)\n",
        "print('m3:',matriz3su)\n",
        "print('m4:',matriz4su)\n",
        "print('m5:',matriz5su)\n",
        "print(\" \")  \n",
        "\n",
        "\n",
        "mediassm1=np.mean(matriz1sl)\n",
        "mediasum1=np.mean(matriz1su)\n",
        "\n",
        "mediassm2=np.mean(matriz2sl)\n",
        "mediasum2=np.mean(matriz2su)\n",
        "\n",
        "mediassm3=np.mean(matriz3sl)\n",
        "mediasum3=np.mean(matriz3su)\n",
        "\n",
        "mediassm4=np.mean(matriz4sl)\n",
        "mediasum4=np.mean(matriz4su)\n",
        "\n",
        "mediassm5=np.mean(matriz5sl)\n",
        "mediasum5=np.mean(matriz5su)\n",
        "\n",
        "\n",
        "print('---------------- Cálculo da média matriz 1 ------------------ ')\n",
        "print('Peso inicial:',mediasum1,'g')\n",
        "print('Peso após secagem ao sol:',mediassm1,'g')\n",
        "pi1=mediasum1\n",
        "ps1=mediassm1\n",
        "#FORMULA: %U=(Pi-PS)/Pi x 100\n",
        "m1u=float((pi1-ps1)/pi1 * 100)\n",
        "print('Determinação umidade:', f'{m1u:.2f}','%')\n",
        "print(\" \")\n",
        "\n",
        "print('---------------- Cálculo da média matriz 2 ------------------   ')\n",
        "print('Peso inicial:',mediasum2,'g')\n",
        "print('Peso após secagem ao sol:',mediassm2,'g')\n",
        "pi2=mediasum2\n",
        "ps2=mediassm2\n",
        "#FORMULA: %U=(Pi-PS)/Pi x 100\n",
        "m2u=float((pi2-ps2)/pi2 * 100)\n",
        "print('Determinação umidade:', f'{m2u:.2f}','%')\n",
        "print(\" \")\n",
        "\n",
        "print('---------------- Cálculo da média matriz 3 ------------------   ')\n",
        "print('Peso inicial:',mediasum3,'g')\n",
        "print('Peso após secagem em estufa:',mediassm3,'g')\n",
        "pi3=mediasum3\n",
        "ps3=mediassm3\n",
        "#FORMULA: %U=(Pi-PS)/Pi x 100\n",
        "m3u=float((pi3-ps3)/pi3 * 100)\n",
        "print('Determinação umidade:', f'{m3u:.2f}','%')\n",
        "print(\" \")\n",
        "\n",
        "print('---------------- Cálculo da média matriz 4 ------------------   ')\n",
        "print('Peso inicial:',mediasum4,'g')\n",
        "print('Peso após secagem em estufa',mediassm4,'g')\n",
        "pi4=mediasum4\n",
        "ps4=mediassm4\n",
        "#FORMULA: %U=(Pi-PS)/Pi x 100\n",
        "m4u=float((pi4-ps4)/pi4 * 100)\n",
        "print('Determinação umidade:',f'{m4u:.2f}','%')\n",
        "print(\" \")\n",
        "\n",
        "print('---------------- Cálculo da média matriz 5 ------------------   ')\n",
        "print('Peso inicial:',mediasum5,'g')\n",
        "print('Peso após secagem em estufa:',mediassm5,'g')\n",
        "pi5=mediasum5\n",
        "ps5=mediassm5\n",
        "#FORMULA: %U=(Pi-PS)/Pi x 100\n",
        "m5u=float((pi5-ps5)/pi5 * 100)\n",
        "print('Determinação umidade:',f'{m5u:.2f}','%')\n",
        "print(\" \")\n",
        "\n",
        "\n"
      ],
      "metadata": {
        "colab": {
          "base_uri": "https://localhost:8080/"
        },
        "id": "WhkYjMDxtcR3",
        "outputId": "cf22f2ee-287b-45b8-c428-020e8f2deec5"
      },
      "execution_count": 38,
      "outputs": [
        {
          "output_type": "stream",
          "name": "stdout",
          "text": [
            "tabela peso inicial das sementes:\n",
            "m1: [1.5, 3, 1.5, 2, 3, 3, 2, 2, 2, 2]\n",
            "m2: [3, 2, 2, 2, 2.5, 2, 1.5, 3, 2, 2]\n",
            "m3: [1.5, 2, 4, 3, 4, 2.5, 2, 3, 3, 2]\n",
            "m4: [2, 2, 1, 1.5, 2, 2, 2, 1, 3, 2]\n",
            "m5: [4, 2.5, 2.5, 3, 4, 5, 2.5, 4, 3, 2]\n",
            "tabela peso após secagem: \n",
            "m1: [3, 4, 3, 3, 4, 4, 4, 3, 4, 3]\n",
            "m2: [3, 4, 3, 3, 5, 2, 3, 3, 3, 3]\n",
            "m3: [3, 4, 4, 4, 5, 5, 4, 4, 4, 4]\n",
            "m4: [3, 3, 2, 3, 3, 3, 3, 2, 4, 3]\n",
            "m5: [5, 4, 5, 5, 5, 5, 5, 5, 4, 4]\n",
            " \n",
            "---------------- Cálculo da média matriz 1 ------------------ \n",
            "Peso inicial: 3.5 g\n",
            "Peso após secagem ao sol: 2.2 g\n",
            "Determinação umidade: 37.14 %\n",
            " \n",
            "---------------- Cálculo da média matriz 2 ------------------   \n",
            "Peso inicial: 3.2 g\n",
            "Peso após secagem ao sol: 2.2 g\n",
            "Determinação umidade: 31.25 %\n",
            " \n",
            "---------------- Cálculo da média matriz 3 ------------------   \n",
            "Peso inicial: 4.1 g\n",
            "Peso após secagem em estufa: 2.7 g\n",
            "Determinação umidade: 34.15 %\n",
            " \n",
            "---------------- Cálculo da média matriz 4 ------------------   \n",
            "Peso inicial: 2.9 g\n",
            "Peso após secagem em estufa 1.85 g\n",
            "Determinação umidade: 36.21 %\n",
            " \n",
            "---------------- Cálculo da média matriz 5 ------------------   \n",
            "Peso inicial: 4.7 g\n",
            "Peso após secagem em estufa: 3.25 g\n",
            "Determinação umidade: 30.85 %\n",
            " \n"
          ]
        }
      ]
    }
  ]
}